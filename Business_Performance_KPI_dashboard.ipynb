{
 "cells": [
  {
   "cell_type": "markdown",
   "id": "41d78888-b6ac-4907-9544-44fd477a5a83",
   "metadata": {},
   "source": [
    "# The Objective of this project is to Segmenting Customers Based on purchase Behaviour"
   ]
  },
  {
   "cell_type": "markdown",
   "id": "344c1987-fa6d-46ae-9e90-a83b1e4ec3d8",
   "metadata": {},
   "source": [
    "## Step 1: Load the Data"
   ]
  },
  {
   "cell_type": "code",
   "execution_count": 3,
   "id": "36a40a18-633c-4c04-8e11-9e7061d97f01",
   "metadata": {},
   "outputs": [
    {
     "ename": "FileNotFoundError",
     "evalue": "[WinError 2] The system cannot find the file specified: 'C:\\\\Users\\\\Lenovo\\\\Documents\\\\Business Performance KPI Dashboard'",
     "output_type": "error",
     "traceback": [
      "\u001b[1;31m---------------------------------------------------------------------------\u001b[0m",
      "\u001b[1;31mFileNotFoundError\u001b[0m                         Traceback (most recent call last)",
      "Cell \u001b[1;32mIn[3], line 2\u001b[0m\n\u001b[0;32m      1\u001b[0m \u001b[38;5;28;01mimport\u001b[39;00m \u001b[38;5;21;01mos\u001b[39;00m\n\u001b[1;32m----> 2\u001b[0m \u001b[43mos\u001b[49m\u001b[38;5;241;43m.\u001b[39;49m\u001b[43mchdir\u001b[49m\u001b[43m(\u001b[49m\u001b[38;5;124;43mr\u001b[39;49m\u001b[38;5;124;43m'\u001b[39;49m\u001b[38;5;124;43mC:\u001b[39;49m\u001b[38;5;124;43m\\\u001b[39;49m\u001b[38;5;124;43mUsers\u001b[39;49m\u001b[38;5;124;43m\\\u001b[39;49m\u001b[38;5;124;43mLenovo\u001b[39;49m\u001b[38;5;124;43m\\\u001b[39;49m\u001b[38;5;124;43mDocuments\u001b[39;49m\u001b[38;5;124;43m\\\u001b[39;49m\u001b[38;5;124;43mBusiness Performance KPI Dashboard\u001b[39;49m\u001b[38;5;124;43m'\u001b[39;49m\u001b[43m)\u001b[49m\n\u001b[0;32m      3\u001b[0m \u001b[38;5;28mprint\u001b[39m(os\u001b[38;5;241m.\u001b[39mlistdir())\n",
      "\u001b[1;31mFileNotFoundError\u001b[0m: [WinError 2] The system cannot find the file specified: 'C:\\\\Users\\\\Lenovo\\\\Documents\\\\Business Performance KPI Dashboard'"
     ]
    }
   ],
   "source": [
    "import os\n",
    "os.chdir(r'C:\\Users\\Lenovo\\Documents\\Business Performance KPI Dashboard')\n",
    "print(os.listdir())"
   ]
  },
  {
   "cell_type": "code",
   "execution_count": null,
   "id": "abedd735-1364-40a8-9c87-f13be930b49f",
   "metadata": {},
   "outputs": [],
   "source": [
    "import pandas as pd\n",
    "import numpy as np\n",
    "import matplotlib.pyplot as plt\n",
    "import datetime as dt\n",
    "import openpyxl"
   ]
  },
  {
   "cell_type": "code",
   "execution_count": null,
   "id": "4cbda6b8-a93f-40b8-b853-535357c8a1be",
   "metadata": {},
   "outputs": [],
   "source": [
    "# Changed encoding to 'ISO-8859-1' (ANSI) because the file does not support UTF-8 and requires compatibility.\n",
    "df = pd.read_csv('Online_Retail.csv', encoding='ISO-8859-1')"
   ]
  },
  {
   "cell_type": "code",
   "execution_count": null,
   "id": "2ec08e61-6a39-4056-b9f8-f77e93888084",
   "metadata": {},
   "outputs": [],
   "source": [
    "# Let's peak into the data\n",
    "df"
   ]
  },
  {
   "cell_type": "code",
   "execution_count": null,
   "id": "a4c9480a-032d-42b8-895f-be607e4388a8",
   "metadata": {},
   "outputs": [],
   "source": [
    "# Basic information\n",
    "print(df.info())"
   ]
  },
  {
   "cell_type": "markdown",
   "id": "162a410a-2e9a-45fb-b83a-9b2df87c8de1",
   "metadata": {},
   "source": [
    "## Step 2: Data Cleaning"
   ]
  },
  {
   "cell_type": "code",
   "execution_count": null,
   "id": "1d3113ab-da3b-4269-a0d6-ee50cf1fb275",
   "metadata": {},
   "outputs": [],
   "source": [
    "# Check for missing values\n",
    "print(df.isnull().sum())"
   ]
  },
  {
   "cell_type": "code",
   "execution_count": null,
   "id": "fee5026a-cdf7-4d00-8841-b16c71d134c2",
   "metadata": {},
   "outputs": [],
   "source": [
    "# Let's check how the severe missing values is in percentage\n",
    "missing_percent = df.isnull().sum() / len(df) * 100\n",
    "print(missing_percent)\n"
   ]
  },
  {
   "cell_type": "code",
   "execution_count": null,
   "id": "f6930d49-da7f-44d8-addd-9d70a9e120b0",
   "metadata": {},
   "outputs": [],
   "source": [
    "missing_customerid = df[df['CustomerID'].isnull()]\n",
    "print(missing_customerid)"
   ]
  },
  {
   "cell_type": "code",
   "execution_count": null,
   "id": "e2d92fd2-225e-41f9-8ef9-b7200849c09b",
   "metadata": {},
   "outputs": [],
   "source": [
    "# First, fill the missing CustomerID with 'Unknown'\n",
    "df['CustomerID'] = df['CustomerID'].fillna('Unknown')\n",
    "\n",
    "# Create the flag column: 1 for known customers, 0 for unknown customers\n",
    "df['CustomerID_flag'] = (df['CustomerID'] != 'Unknown').astype(int)\n",
    "\n",
    "# Check the result\n",
    "print(df)"
   ]
  },
  {
   "cell_type": "code",
   "execution_count": null,
   "id": "5db21380-0d6d-41ce-a6bb-dcc55ca49fdf",
   "metadata": {},
   "outputs": [],
   "source": [
    "# Handling Decription missing values. Many data is also missing in such rows.\n",
    "df = df.dropna(subset=['Description'])"
   ]
  },
  {
   "cell_type": "code",
   "execution_count": null,
   "id": "47c50cb8-74f7-4a84-bd78-0f820975657b",
   "metadata": {},
   "outputs": [],
   "source": [
    "df.isnull().sum()"
   ]
  },
  {
   "cell_type": "code",
   "execution_count": null,
   "id": "98c6dca7-121a-46d9-8b40-d2f501e03050",
   "metadata": {},
   "outputs": [],
   "source": [
    "# Check for Duplicate entries\n",
    "print(df.duplicated().sum())"
   ]
  },
  {
   "cell_type": "code",
   "execution_count": null,
   "id": "3db96e5c-8149-458a-b1f7-ea188df23546",
   "metadata": {},
   "outputs": [],
   "source": [
    "# Display raws that are duplicates\n",
    "duplicate_raws = df[df.duplicated()]\n",
    "print(duplicate_raws)"
   ]
  },
  {
   "cell_type": "code",
   "execution_count": null,
   "id": "2a98c2a6-a95d-4f7e-94ac-e6166dba6437",
   "metadata": {},
   "outputs": [],
   "source": [
    "import re\n",
    "# Strip whitespace from all string columns\n",
    "df = df.map(lambda x: x.strip() if isinstance(x, str) else x)\n",
    "\n",
    "# Remove non-printable characters from all string columns\n",
    "df = df.map(lambda x: re.sub(r'\\s+', ' ', x) if isinstance(x, str) else x)\n",
    "# Convert all string columns to lowercase\n",
    "df['Description'] = df['Description'].str.lower()\n",
    "df['Country'] = df['Country'].str.lower()\n",
    "\n",
    "# Check for duplicates across all columns\n",
    "df.duplicated().sum()\n"
   ]
  },
  {
   "cell_type": "markdown",
   "id": "a9d652a2-90da-460e-a595-88a8a1189c30",
   "metadata": {},
   "source": [
    "## Duplicate Check Explanation\n",
    "\n",
    "In reviewing the dataset, we performed a check for duplicate entries based on the following key columns:\n",
    "\n",
    "- **InvoiceNo**: Each invoice number is typically unique to a transaction. However, when multiple items are purchased under the same invoice, there will be multiple entries with the same **InvoiceNo**.\n",
    "\n",
    "- **Quantity**: The quantity of items purchased can vary for each entry within the same invoice, resulting in separate rows for different items.\n",
    "\n",
    "- **InvoiceDate**: The invoice date is generally the same for all items in a single transaction, but slight variations in the exact time recorded might cause multiple rows to appear.\n",
    "\n",
    "- **CustomerID**: The **CustomerID** corresponds to the customer making the purchase. Since a customer may buy multiple items under the same invoice, this will appear as repeated rows for the same transaction.\n",
    "\n",
    "- **Country**: The **Country** indicates the location of the customer. Multiple items from the same invoice may share the same country, which results in multiple rows under the same country for the same customer.\n",
    "\n",
    "### Conclusion:\n",
    "\n",
    "After investigating, we confirm that the dataset does not contain true duplicate rows. The system marks multiple entries as duplicates because these columns (InvoiceNo, Quantity, InvoiceDate, CustomerID, and Country) may repeat for the same transaction, where different items are bought under the same invoice.\n",
    "\n",
    "These entries are not actual duplicates but represent different items purchased under the same invoice. If necessary, we can remove entries considered duplicates based on these columns or further refine the analysis criteria.\n",
    "\n"
   ]
  },
  {
   "cell_type": "code",
   "execution_count": null,
   "id": "4863ed68-50c5-4913-970a-d95a7fb1f24e",
   "metadata": {},
   "outputs": [],
   "source": [
    "# Let's find out invalid or negative quantities.\n",
    "print((df['Quantity'] <= 0).sum())"
   ]
  },
  {
   "cell_type": "code",
   "execution_count": null,
   "id": "57bb1a91-c798-47ef-a29c-3d5ae5453663",
   "metadata": {},
   "outputs": [],
   "source": [
    "negative_quantity = df[df['Quantity'] <=0]\n",
    "print(negative_quantity)"
   ]
  },
  {
   "cell_type": "code",
   "execution_count": null,
   "id": "9f7433a3-1276-436d-9c2d-c8cb42496f81",
   "metadata": {},
   "outputs": [],
   "source": [
    "# Flag negative quantities for potential future analysis, allowing for further exploration if needed.\n",
    "df['Negative_Quantity_Flag'] = df['Quantity'].apply(lambda x: 1 if x < 0 else 0)"
   ]
  },
  {
   "cell_type": "code",
   "execution_count": null,
   "id": "f7c0be53-5d7b-4559-99fd-2a7cae6b1d9b",
   "metadata": {},
   "outputs": [],
   "source": [
    "# Count rows where unitprice is zero\n",
    "zero_unitprice_count = (df['UnitPrice'] == 0).sum()\n",
    "\n",
    "print(zero_unitprice_count)\n"
   ]
  },
  {
   "cell_type": "code",
   "execution_count": null,
   "id": "24515704-78c6-44d4-b51b-378ac2f55d73",
   "metadata": {},
   "outputs": [],
   "source": [
    "# Filter rows where unitprice is zero\n",
    "rows_with_zero_unitprice = df[df['UnitPrice'] == 0]\n",
    "\n",
    "# Display rows with zero unitprice and their descriptions\n",
    "print(rows_with_zero_unitprice[['Description', 'UnitPrice']])"
   ]
  },
  {
   "cell_type": "code",
   "execution_count": null,
   "id": "0baab034-741f-4066-80d6-427cdd0fd244",
   "metadata": {},
   "outputs": [],
   "source": [
    "# Replace 0 values in Quantity with NaN\n",
    "df['UnitPrice'] = df['UnitPrice'].replace(0, np.nan)\n",
    "\n",
    "# Check the result\n",
    "print(df[df['UnitPrice'].isna()].head())"
   ]
  },
  {
   "cell_type": "code",
   "execution_count": null,
   "id": "a5be5bab-4726-49a2-9ac3-17e18213929b",
   "metadata": {},
   "outputs": [],
   "source": [
    "# Let's do the Imputation\n",
    "# Impute missing UnitPrice by StockCode (mean of UnitPrice by StockCode)\n",
    "df['UnitPrice'] = df.groupby('StockCode')['UnitPrice'].transform(lambda x: x.fillna(x.mean()))\n",
    "\n",
    "# Impute remaining missing UnitPrice by Description (mean of UnitPrice by Description)\n",
    "df['UnitPrice'] = df.groupby('Description')['UnitPrice'].transform(lambda x: x.fillna(x.mean()))\n",
    "\n",
    "# If any values are still missing, impute with the global mean of UnitPrice\n",
    "df['UnitPrice'] = df['UnitPrice'].fillna(df['UnitPrice'].mean())\n",
    "\n",
    "# Verifying if any missing values remain\n",
    "print(df[df['UnitPrice'].isna()])"
   ]
  },
  {
   "cell_type": "code",
   "execution_count": null,
   "id": "4f8b656c-0523-41d5-bfba-6123fc942414",
   "metadata": {},
   "outputs": [],
   "source": [
    "# let's check further.\n",
    "print(df[df['UnitPrice'].isna() | (df['UnitPrice'] == 0)])"
   ]
  },
  {
   "cell_type": "code",
   "execution_count": null,
   "id": "d7a494c4-9277-40f6-b8c5-478ddbb63384",
   "metadata": {},
   "outputs": [],
   "source": [
    "# Check the summary statistics of UnitPrice\n",
    "print(df['UnitPrice'].describe())\n",
    "\n",
    "# Check the first few rows to ensure imputation worked correctly\n",
    "print(df.head())"
   ]
  },
  {
   "cell_type": "code",
   "execution_count": null,
   "id": "fd5021f0-0c60-436f-b79a-050ae562a53b",
   "metadata": {},
   "outputs": [],
   "source": [
    "# Check rows with extreme UnitPrice values\n",
    "extreme_values = df[df['UnitPrice'] < 0 | (df['UnitPrice'] > 1000)]\n",
    "print(extreme_values)"
   ]
  },
  {
   "cell_type": "code",
   "execution_count": null,
   "id": "774b9a80-0c9d-471b-8117-55693c0dc165",
   "metadata": {},
   "outputs": [],
   "source": [
    "df = df[df['UnitPrice'] > 0]"
   ]
  },
  {
   "cell_type": "code",
   "execution_count": null,
   "id": "b65f4df1-e22d-42ff-afad-4cc92d3e355d",
   "metadata": {},
   "outputs": [],
   "source": [
    "# Remove rows where Description contains \"adjust bad debt\"\n",
    "df = df[~df['Description'].str.contains('adjust bad debt', case=False, na=False)]"
   ]
  },
  {
   "cell_type": "code",
   "execution_count": null,
   "id": "1a6f0bb2-738a-464a-b323-45c1627c21f2",
   "metadata": {},
   "outputs": [],
   "source": [
    "# Check rows with extreme UnitPrice values\n",
    "extreme_values = df[df['UnitPrice'] < 0 | (df['UnitPrice'] > 1000)]\n",
    "print(extreme_values)"
   ]
  },
  {
   "cell_type": "code",
   "execution_count": null,
   "id": "c30aeba8-1967-4d82-b428-2cbb2e97c19b",
   "metadata": {},
   "outputs": [],
   "source": [
    "df"
   ]
  },
  {
   "cell_type": "code",
   "execution_count": null,
   "id": "3ccaa477-ae2e-417f-86ad-4be3d1b5e2eb",
   "metadata": {},
   "outputs": [],
   "source": [
    "# Create Total Price column\n",
    "df['TotalPrice'] = df['Quantity'] * df['UnitPrice']\n",
    "\n",
    "print(df)"
   ]
  },
  {
   "cell_type": "code",
   "execution_count": null,
   "id": "11a20edd-87ab-4433-811b-ab03848abc9e",
   "metadata": {},
   "outputs": [],
   "source": [
    "df.to_csv(r'C:\\Users\\Lenovo\\Downloads\\segmenting_customers.csv', index=False)"
   ]
  },
  {
   "cell_type": "code",
   "execution_count": null,
   "id": "1587c862-3d9f-40f7-9c37-0ff8591b5dcc",
   "metadata": {},
   "outputs": [],
   "source": [
    "print(\"Cleaned Data:\")"
   ]
  }
 ],
 "metadata": {
  "kernelspec": {
   "display_name": "Python 3 (ipykernel)",
   "language": "python",
   "name": "python3"
  },
  "language_info": {
   "codemirror_mode": {
    "name": "ipython",
    "version": 3
   },
   "file_extension": ".py",
   "mimetype": "text/x-python",
   "name": "python",
   "nbconvert_exporter": "python",
   "pygments_lexer": "ipython3",
   "version": "3.9.19"
  }
 },
 "nbformat": 4,
 "nbformat_minor": 5
}
